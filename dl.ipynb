{
  "nbformat": 4,
  "nbformat_minor": 0,
  "metadata": {
    "colab": {
      "name": "dl.ipynb",
      "version": "0.3.2",
      "provenance": [],
      "collapsed_sections": [],
      "include_colab_link": true
    },
    "kernelspec": {
      "name": "python3",
      "display_name": "Python 3"
    }
  },
  "cells": [
    {
      "cell_type": "markdown",
      "metadata": {
        "id": "view-in-github",
        "colab_type": "text"
      },
      "source": [
        "<a href=\"https://colab.research.google.com/github/ygw365/dl/blob/master/dl.ipynb\" target=\"_parent\"><img src=\"https://colab.research.google.com/assets/colab-badge.svg\" alt=\"Open In Colab\"/></a>"
      ]
    },
    {
      "metadata": {
        "id": "JCoUeO2TcxW2",
        "colab_type": "code",
        "colab": {}
      },
      "cell_type": "code",
      "source": [
        "import tensorflow as tf\n",
        "import numpy as np"
      ],
      "execution_count": 0,
      "outputs": []
    },
    {
      "metadata": {
        "id": "cbuUZquieQvs",
        "colab_type": "code",
        "colab": {}
      },
      "cell_type": "code",
      "source": [
        "x = tf.constant(np.random.rand(32).astype(np.float32))\n",
        "y = tf.constant ([1,2,3])"
      ],
      "execution_count": 0,
      "outputs": []
    },
    {
      "metadata": {
        "id": "QlxbugXueQ51",
        "colab_type": "code",
        "colab": {
          "base_uri": "https://localhost:8080/",
          "height": 34
        },
        "outputId": "aab96edc-6a38-49b5-a74e-e16ff8076fb5"
      },
      "cell_type": "code",
      "source": [
        "x"
      ],
      "execution_count": 9,
      "outputs": [
        {
          "output_type": "execute_result",
          "data": {
            "text/plain": [
              "<tf.Tensor 'Const_2:0' shape=(32,) dtype=float32>"
            ]
          },
          "metadata": {
            "tags": []
          },
          "execution_count": 9
        }
      ]
    },
    {
      "metadata": {
        "id": "IgDu0EtGeQ9w",
        "colab_type": "code",
        "colab": {
          "base_uri": "https://localhost:8080/",
          "height": 34
        },
        "outputId": "b3f5d035-c6b4-4275-b1a9-cc6fe31aa8ed"
      },
      "cell_type": "code",
      "source": [
        "y"
      ],
      "execution_count": 7,
      "outputs": [
        {
          "output_type": "execute_result",
          "data": {
            "text/plain": [
              "<tf.Tensor 'Const_3:0' shape=(3,) dtype=int32>"
            ]
          },
          "metadata": {
            "tags": []
          },
          "execution_count": 7
        }
      ]
    },
    {
      "metadata": {
        "id": "EU5OlrdReRA3",
        "colab_type": "code",
        "colab": {}
      },
      "cell_type": "code",
      "source": [
        "sess = tf.Session() #start a new Session Object\n",
        "x_data = np.array([[1.,2.,3.],\n",
        "[3.,2.,6.]]) # 2x3 matrix\n",
        "x = tf.convert_to_tensor(x_data, dtype=tf.float32)"
      ],
      "execution_count": 0,
      "outputs": []
    },
    {
      "metadata": {
        "id": "vwZ6Wsy0eRDg",
        "colab_type": "code",
        "colab": {
          "base_uri": "https://localhost:8080/",
          "height": 34
        },
        "outputId": "a68797b5-4ba6-4e38-c245-2db587dbf1c2"
      },
      "cell_type": "code",
      "source": [
        "x"
      ],
      "execution_count": 11,
      "outputs": [
        {
          "output_type": "execute_result",
          "data": {
            "text/plain": [
              "<tf.Tensor 'Const_4:0' shape=(2, 3) dtype=float32>"
            ]
          },
          "metadata": {
            "tags": []
          },
          "execution_count": 11
        }
      ]
    },
    {
      "metadata": {
        "id": "34wJTz8jeRGX",
        "colab_type": "code",
        "colab": {
          "base_uri": "https://localhost:8080/",
          "height": 51
        },
        "outputId": "3d6d4336-1d4c-4ee3-c036-01284c020028"
      },
      "cell_type": "code",
      "source": [
        ""
      ],
      "execution_count": 12,
      "outputs": [
        {
          "output_type": "stream",
          "text": [
            "/bin/bash: -c: line 0: syntax error near unexpected token `https://images.gitbook.cn/1cb5a360-e0d2-11e8-b193-a92eb910d005'\n",
            "/bin/bash: -c: line 0: `[](https://images.gitbook.cn/1cb5a360-e0d2-11e8-b193-a92eb910d005)'\n"
          ],
          "name": "stdout"
        }
      ]
    },
    {
      "metadata": {
        "id": "2Lt7-owpgKEa",
        "colab_type": "text"
      },
      "cell_type": "markdown",
      "source": [
        "# 图中的节点（node）表示操作（operation），而边（edge）表示各操作之间流通的数据。\n",
        "![](https://images.gitbook.cn/1cb5a360-e0d2-11e8-b193-a92eb910d005)"
      ]
    },
    {
      "metadata": {
        "id": "rlB4IqoFeRI-",
        "colab_type": "code",
        "colab": {}
      },
      "cell_type": "code",
      "source": [
        "sess = tf.InteractiveSession()"
      ],
      "execution_count": 0,
      "outputs": []
    },
    {
      "metadata": {
        "id": "2M-3vUSveRLW",
        "colab_type": "code",
        "colab": {}
      },
      "cell_type": "code",
      "source": [
        "x = tf.constant([[2, 5, 3, -5],\n",
        "                 [0, 3,-2, 5],\n",
        "                 [4, 3, 5, 3],\n",
        "                 [6, 1, 4, 0]])"
      ],
      "execution_count": 0,
      "outputs": []
    },
    {
      "metadata": {
        "id": "zy6a8VNmeRN-",
        "colab_type": "code",
        "colab": {
          "base_uri": "https://localhost:8080/",
          "height": 85
        },
        "outputId": "ca946176-7e6d-4c7a-eba7-0b95f34ffd89"
      },
      "cell_type": "code",
      "source": [
        "tf.transpose(x).eval()"
      ],
      "execution_count": 15,
      "outputs": [
        {
          "output_type": "execute_result",
          "data": {
            "text/plain": [
              "array([[ 2,  0,  4,  6],\n",
              "       [ 5,  3,  3,  1],\n",
              "       [ 3, -2,  5,  4],\n",
              "       [-5,  5,  3,  0]], dtype=int32)"
            ]
          },
          "metadata": {
            "tags": []
          },
          "execution_count": 15
        }
      ]
    },
    {
      "metadata": {
        "id": "4yIXRu_2eRQS",
        "colab_type": "code",
        "colab": {}
      },
      "cell_type": "code",
      "source": [
        "y = tf.constant([[4, -7, 4, -3, 4],\n",
        "               [6, 4,-7, 4, 7],\n",
        "               [2, 3, 2, 1, 4],\n",
        "               [1, 5, 5, 5, 2]])"
      ],
      "execution_count": 0,
      "outputs": []
    },
    {
      "metadata": {
        "id": "C132KUx2eRTL",
        "colab_type": "code",
        "colab": {
          "base_uri": "https://localhost:8080/",
          "height": 85
        },
        "outputId": "9d78693e-2c51-4a02-964d-70ff78aa6517"
      },
      "cell_type": "code",
      "source": [
        "tf.matmul(x,y).eval()"
      ],
      "execution_count": 17,
      "outputs": [
        {
          "output_type": "execute_result",
          "data": {
            "text/plain": [
              "array([[ 39, -10, -46,  -8,  45],\n",
              "       [ 19,  31,   0,  35,  23],\n",
              "       [ 47,  14,  20,  20,  63],\n",
              "       [ 38, -26,  25, -10,  47]], dtype=int32)"
            ]
          },
          "metadata": {
            "tags": []
          },
          "execution_count": 17
        }
      ]
    },
    {
      "metadata": {
        "id": "mTSNIXHCeRVg",
        "colab_type": "code",
        "colab": {
          "base_uri": "https://localhost:8080/",
          "height": 34
        },
        "outputId": "e31325c6-113c-40e9-b5d9-6c816b54b141"
      },
      "cell_type": "code",
      "source": [
        "a = tf.constant([[1,2]])\n",
        "b = tf.constant([[3,4],\n",
        "                 [5,6]])\n",
        "tf.matmul(a,b).eval()"
      ],
      "execution_count": 18,
      "outputs": [
        {
          "output_type": "execute_result",
          "data": {
            "text/plain": [
              "array([[13, 16]], dtype=int32)"
            ]
          },
          "metadata": {
            "tags": []
          },
          "execution_count": 18
        }
      ]
    },
    {
      "metadata": {
        "id": "EBA5kN_oeRYB",
        "colab_type": "code",
        "colab": {
          "base_uri": "https://localhost:8080/",
          "height": 34
        },
        "outputId": "f224e22b-eed5-4000-edca-b23e6f32d384"
      },
      "cell_type": "code",
      "source": [
        "1*3 + 2*5 , 1*4 + 2 * 6"
      ],
      "execution_count": 19,
      "outputs": [
        {
          "output_type": "execute_result",
          "data": {
            "text/plain": [
              "(13, 16)"
            ]
          },
          "metadata": {
            "tags": []
          },
          "execution_count": 19
        }
      ]
    },
    {
      "metadata": {
        "id": "5Nqs9svteRap",
        "colab_type": "code",
        "colab": {
          "base_uri": "https://localhost:8080/",
          "height": 34
        },
        "outputId": "3d1df7c8-7ad9-4da1-8a01-7c5f3c9143a3"
      },
      "cell_type": "code",
      "source": [
        "floatx = tf.constant([[2., 5., 3., -5.],\n",
        "                       [0., 3.,-2., 5.],\n",
        "                       [4., 3., 5., 3.],\n",
        "                       [6., 1., 4., 0.]])\n",
        "\n",
        "tf.matrix_determinant(floatx).eval()"
      ],
      "execution_count": 22,
      "outputs": [
        {
          "output_type": "execute_result",
          "data": {
            "text/plain": [
              "818.0001"
            ]
          },
          "metadata": {
            "tags": []
          },
          "execution_count": 22
        }
      ]
    },
    {
      "metadata": {
        "id": "CsSJKgc2eRdD",
        "colab_type": "code",
        "colab": {
          "base_uri": "https://localhost:8080/",
          "height": 34
        },
        "outputId": "e2f189e2-17da-428f-94bf-fa1557fac5d5"
      },
      "cell_type": "code",
      "source": [
        "b = tf.constant([[3.0,4.0],\n",
        "                 [5.0,6.0]])\n",
        "tf.matrix_determinant(b).eval()"
      ],
      "execution_count": 29,
      "outputs": [
        {
          "output_type": "execute_result",
          "data": {
            "text/plain": [
              "-1.9999993"
            ]
          },
          "metadata": {
            "tags": []
          },
          "execution_count": 29
        }
      ]
    },
    {
      "metadata": {
        "id": "TodHewlkAU5q",
        "colab_type": "code",
        "colab": {}
      },
      "cell_type": "code",
      "source": [
        "'''\n",
        "逆矩阵（inverse matrix），又称反矩阵。在线性代数中，给定一个n阶方阵 {\\displaystyle \\mathbf {A} } \\mathbf{A}，若存在一n阶方阵 {\\displaystyle \\mathbf {B} } \\mathbf {B} ，使得 {\\displaystyle \\mathbf {AB} =\\mathbf {BA} =\\mathbf {I} _{n}} \\mathbf{AB}=\\mathbf{BA}=\\mathbf{I}_n，其中 {\\displaystyle \\mathbf {I} _{n}} \\mathbf{I}_n为n阶单位矩阵，则称 {\\displaystyle \\mathbf {A} } \\mathbf{A} 是可逆的，且 {\\displaystyle \\mathbf {B} } \\mathbf {B} 是 {\\displaystyle \\mathbf {A} } \\mathbf{A}的逆矩阵，记作 {\\displaystyle \\mathbf {A} ^{-1}} \\mathbf {A} ^{-1}。\n",
        "\n",
        "只有方阵（n×n的矩阵）才可能有逆矩阵。若方阵 {\\displaystyle \\mathbf {A} } \\mathbf{A}的逆矩阵存在，则称 {\\displaystyle \\mathbf {A} } \\mathbf{A}为非奇异方阵或可逆方阵。\n",
        "'''\n",
        "c = tf.matrix_inverse(b).eval() # 逆矩陣（inverse matrix)"
      ],
      "execution_count": 0,
      "outputs": []
    },
    {
      "metadata": {
        "id": "kTzQ34mXGFfN",
        "colab_type": "code",
        "colab": {
          "base_uri": "https://localhost:8080/",
          "height": 54
        },
        "outputId": "e2ce9084-1eb9-4457-bb92-509386ba7e31"
      },
      "cell_type": "code",
      "source": [
        "tf.matrix_solve(floatx, [[1],[1],[1],[1]]).eval() # 解矩阵，\n",
        "'''\n",
        "设x1=2, x2=3，列方程组：\n",
        "\n",
        "3x + 2y = 12\n",
        "\n",
        "x + y = 5\n",
        "解方程\n",
        "\n",
        "得到系数矩阵[[3.,2.],[1.,1.]]和值矩阵[[12.],[5.]]。\n",
        "\n",
        "import tensorflow as tf\n",
        "\n",
        "sess = tf.InteractiveSession()\n",
        "\n",
        "a = tf.constant([[3.,2.],\n",
        "                [1.,1.]])\n",
        "print(tf.matrix_solve(a, [[12.],[5.]]).eval())\n",
        "\n",
        "'''"
      ],
      "execution_count": 34,
      "outputs": [
        {
          "output_type": "execute_result",
          "data": {
            "text/plain": [
              "'\\n设x1=2, x2=3，列方程组：\\n\\n3x + 2y = 12\\n\\nx + y = 5\\n\\n得到系数矩阵[[3.,2.],[1.,1.]]和值矩阵[[12.],[5.]]。\\n\\nimport tensorflow as tf\\n\\nsess = tf.InteractiveSession()\\n\\na = tf.constant([[3.,2.],\\n\\xa0 \\xa0 \\xa0 \\xa0 \\xa0 \\xa0 \\xa0 \\xa0 [1.,1.]])\\nprint(tf.matrix_solve(a, [[12.],[5.]]).eval())\\n\\n'"
            ]
          },
          "metadata": {
            "tags": []
          },
          "execution_count": 34
        }
      ]
    },
    {
      "metadata": {
        "id": "HnvQeolYGFmz",
        "colab_type": "code",
        "colab": {}
      },
      "cell_type": "code",
      "source": [
        ""
      ],
      "execution_count": 0,
      "outputs": []
    },
    {
      "metadata": {
        "id": "A0qErmxMGFpn",
        "colab_type": "code",
        "colab": {}
      },
      "cell_type": "code",
      "source": [
        ""
      ],
      "execution_count": 0,
      "outputs": []
    },
    {
      "metadata": {
        "id": "AVgi766AAe98",
        "colab_type": "code",
        "colab": {
          "base_uri": "https://localhost:8080/",
          "height": 51
        },
        "outputId": "b022b576-b3dd-4651-9440-87725346fa50"
      },
      "cell_type": "code",
      "source": [
        "np.matmul(b.eval(), c)"
      ],
      "execution_count": 32,
      "outputs": [
        {
          "output_type": "execute_result",
          "data": {
            "text/plain": [
              "array([[ 1.0000000e+00, -4.7683716e-07],\n",
              "       [ 0.0000000e+00,  1.0000002e+00]], dtype=float32)"
            ]
          },
          "metadata": {
            "tags": []
          },
          "execution_count": 32
        }
      ]
    },
    {
      "metadata": {
        "id": "t-RSkQZK8_Ot",
        "colab_type": "text"
      },
      "cell_type": "markdown",
      "source": [
        "# 矩阵行列式计算\n",
        "![](https://wikimedia.org/api/rest_v1/media/math/render/svg/4cb034bba94ea8e4f0873ff10cd102e2812edbd0)\n",
        "![](https://wikimedia.org/api/rest_v1/media/math/render/svg/f21caeb47d9a97321128e8f384255b6d5453edb4)\n",
        "![](https://upload.wikimedia.org/wikipedia/commons/4/4d/Determinant-columns.png)\n",
        "![](https://upload.wikimedia.org/wikipedia/commons/d/db/Parallelogramme.JPG)\n",
        "\n",
        "![](https://wikimedia.org/api/rest_v1/media/math/render/svg/78513743f73b477d803ae8d084e8e2ddb9d07933) "
      ]
    },
    {
      "metadata": {
        "id": "E9iwl2mXeRf5",
        "colab_type": "code",
        "colab": {}
      },
      "cell_type": "code",
      "source": [
        "# 约简（reduction）是一种跨维度张量操作，计算结果比原张量缩减一个维度\n",
        "x = tf.constant([[1, 2, 3],\n",
        "              [3, 2, 1],\n",
        "              [-1,-2,-3]])"
      ],
      "execution_count": 0,
      "outputs": []
    },
    {
      "metadata": {
        "id": "7eJ4_QRWK0N6",
        "colab_type": "code",
        "colab": {}
      },
      "cell_type": "code",
      "source": [
        "boolean_tensor = tf.constant([[True, False, True],\n",
        "              [False, False, True],\n",
        "              [True, False, False]])"
      ],
      "execution_count": 0,
      "outputs": []
    },
    {
      "metadata": {
        "id": "lZk9NdMtK0S1",
        "colab_type": "code",
        "colab": {
          "base_uri": "https://localhost:8080/",
          "height": 34
        },
        "outputId": "7088868e-a030-494b-826e-0a445d2942a1"
      },
      "cell_type": "code",
      "source": [
        "tf.reduce_prod(x, reduction_indices=1).eval() # 计算乘积"
      ],
      "execution_count": 38,
      "outputs": [
        {
          "output_type": "execute_result",
          "data": {
            "text/plain": [
              "array([ 6,  6, -6], dtype=int32)"
            ]
          },
          "metadata": {
            "tags": []
          },
          "execution_count": 38
        }
      ]
    },
    {
      "metadata": {
        "id": "FrTxJz1YK0Vz",
        "colab_type": "code",
        "colab": {
          "base_uri": "https://localhost:8080/",
          "height": 34
        },
        "outputId": "84eaaf1a-36c0-449d-d281-0e6a4c5a67a8"
      },
      "cell_type": "code",
      "source": [
        "tf.reduce_min(x, reduction_indices=1).eval() # 最小值"
      ],
      "execution_count": 39,
      "outputs": [
        {
          "output_type": "execute_result",
          "data": {
            "text/plain": [
              "array([ 1,  1, -3], dtype=int32)"
            ]
          },
          "metadata": {
            "tags": []
          },
          "execution_count": 39
        }
      ]
    },
    {
      "metadata": {
        "id": "yyhye_CvK0YV",
        "colab_type": "code",
        "colab": {
          "base_uri": "https://localhost:8080/",
          "height": 34
        },
        "outputId": "64586a9e-ba33-462c-d66e-65fedaf3a369"
      },
      "cell_type": "code",
      "source": [
        "tf.reduce_max(x, reduction_indices=1).eval() # 最大值"
      ],
      "execution_count": 40,
      "outputs": [
        {
          "output_type": "execute_result",
          "data": {
            "text/plain": [
              "array([ 3,  3, -1], dtype=int32)"
            ]
          },
          "metadata": {
            "tags": []
          },
          "execution_count": 40
        }
      ]
    },
    {
      "metadata": {
        "id": "siWrjAPvK0bH",
        "colab_type": "code",
        "colab": {
          "base_uri": "https://localhost:8080/",
          "height": 34
        },
        "outputId": "9213766a-7f5e-4269-89e8-de8dddedacb2"
      },
      "cell_type": "code",
      "source": [
        "tf.reduce_mean(x, reduction_indices=1).eval() # 均值"
      ],
      "execution_count": 41,
      "outputs": [
        {
          "output_type": "execute_result",
          "data": {
            "text/plain": [
              "array([ 2,  2, -2], dtype=int32)"
            ]
          },
          "metadata": {
            "tags": []
          },
          "execution_count": 41
        }
      ]
    },
    {
      "metadata": {
        "id": "iqVa4SyQLOUP",
        "colab_type": "code",
        "colab": {
          "base_uri": "https://localhost:8080/",
          "height": 34
        },
        "outputId": "e88e22cb-7694-44f6-8212-a7f261a9a6e2"
      },
      "cell_type": "code",
      "source": [
        "tf.reduce_all(boolean_tensor, reduction_indices=1).eval()"
      ],
      "execution_count": 42,
      "outputs": [
        {
          "output_type": "execute_result",
          "data": {
            "text/plain": [
              "array([False, False, False])"
            ]
          },
          "metadata": {
            "tags": []
          },
          "execution_count": 42
        }
      ]
    },
    {
      "metadata": {
        "id": "SFDnUnh7LOXC",
        "colab_type": "code",
        "colab": {
          "base_uri": "https://localhost:8080/",
          "height": 34
        },
        "outputId": "fdc933a2-2c56-4bef-f7f6-9c7561a3ccc7"
      },
      "cell_type": "code",
      "source": [
        "tf.reduce_any(boolean_tensor, reduction_indices=1).eval()"
      ],
      "execution_count": 43,
      "outputs": [
        {
          "output_type": "execute_result",
          "data": {
            "text/plain": [
              "array([ True,  True,  True])"
            ]
          },
          "metadata": {
            "tags": []
          },
          "execution_count": 43
        }
      ]
    },
    {
      "metadata": {
        "id": "RDzntM2nLOZi",
        "colab_type": "code",
        "colab": {
          "base_uri": "https://localhost:8080/",
          "height": 68
        },
        "outputId": "85373205-f1a4-4adf-dd31-f06348f65245"
      },
      "cell_type": "code",
      "source": [
        "# 张量分割\n",
        "\n",
        "seg_ids = tf.constant([0,1,1,2,2])\n",
        "tens1 = tf.constant([[2, 5, 3, -5],\n",
        "                [0, 3,-2, 5],\n",
        "                [4, 3, 5, 3],\n",
        "                [6, 1, 4, 0],\n",
        "                [6, 1, 4, 0]])\n",
        "tf.segment_sum(tens1, seg_ids).eval()"
      ],
      "execution_count": 44,
      "outputs": [
        {
          "output_type": "execute_result",
          "data": {
            "text/plain": [
              "array([[ 2,  5,  3, -5],\n",
              "       [ 4,  6,  3,  8],\n",
              "       [12,  2,  8,  0]], dtype=int32)"
            ]
          },
          "metadata": {
            "tags": []
          },
          "execution_count": 44
        }
      ]
    },
    {
      "metadata": {
        "id": "EFCjSiZbLOb7",
        "colab_type": "code",
        "colab": {
          "base_uri": "https://localhost:8080/",
          "height": 68
        },
        "outputId": "5f15c084-25ca-4f8e-83de-1d82ac0eb179"
      },
      "cell_type": "code",
      "source": [
        "# 将索引值相同的进行求和，其余的按顺序计算\n",
        "c = tf.constant([[1,2,3,4], \n",
        "                 [-1,-2,-3,-4], \n",
        "                 [5,6,7,8]])\n",
        "tf.segment_sum(c, tf.constant([0, 2, 2])).eval()"
      ],
      "execution_count": 54,
      "outputs": [
        {
          "output_type": "execute_result",
          "data": {
            "text/plain": [
              "array([[1, 2, 3, 4],\n",
              "       [0, 0, 0, 0],\n",
              "       [4, 4, 4, 4]], dtype=int32)"
            ]
          },
          "metadata": {
            "tags": []
          },
          "execution_count": 54
        }
      ]
    },
    {
      "metadata": {
        "id": "p4S2Fz19LOeU",
        "colab_type": "code",
        "colab": {
          "base_uri": "https://localhost:8080/",
          "height": 51
        },
        "outputId": "6b80f5f1-5452-4ae1-a05a-5d62c49b60a8"
      },
      "cell_type": "code",
      "source": [
        "tf.segment_sum(c, tf.constant([0, 1, 1])).eval()"
      ],
      "execution_count": 47,
      "outputs": [
        {
          "output_type": "execute_result",
          "data": {
            "text/plain": [
              "array([[1, 2, 3, 4],\n",
              "       [4, 4, 4, 4]], dtype=int32)"
            ]
          },
          "metadata": {
            "tags": []
          },
          "execution_count": 47
        }
      ]
    },
    {
      "metadata": {
        "id": "_WloJ3u-LOgf",
        "colab_type": "code",
        "colab": {
          "base_uri": "https://localhost:8080/",
          "height": 85
        },
        "outputId": "960a24ab-f577-4eab-e050-64c18d075145"
      },
      "cell_type": "code",
      "source": [
        "tf.segment_sum(c, tf.constant([0, 1, 3])).eval()"
      ],
      "execution_count": 55,
      "outputs": [
        {
          "output_type": "execute_result",
          "data": {
            "text/plain": [
              "array([[ 1,  2,  3,  4],\n",
              "       [-1, -2, -3, -4],\n",
              "       [ 0,  0,  0,  0],\n",
              "       [ 5,  6,  7,  8]], dtype=int32)"
            ]
          },
          "metadata": {
            "tags": []
          },
          "execution_count": 55
        }
      ]
    },
    {
      "metadata": {
        "id": "DCAHwvQ9LOkf",
        "colab_type": "code",
        "colab": {
          "base_uri": "https://localhost:8080/",
          "height": 51
        },
        "outputId": "f882a92a-c3d4-4034-b832-abc04749d392"
      },
      "cell_type": "code",
      "source": [
        "tf.segment_sum(c, tf.constant([1, 1, 1])).eval()"
      ],
      "execution_count": 53,
      "outputs": [
        {
          "output_type": "execute_result",
          "data": {
            "text/plain": [
              "array([[0, 0, 0, 0],\n",
              "       [5, 6, 7, 8]], dtype=int32)"
            ]
          },
          "metadata": {
            "tags": []
          },
          "execution_count": 53
        }
      ]
    },
    {
      "metadata": {
        "id": "fStv6IzNLOnK",
        "colab_type": "code",
        "colab": {}
      },
      "cell_type": "code",
      "source": [
        "# 序列实用程序包括诸如 argmin 和 argmax（显示维度的最小和最大值），\n",
        "# listdiff（显示列表之间的交集的补码），\n",
        "# where（显示张量上的真实值的索引）和 unique（在列表上去除重复的元素）。"
      ],
      "execution_count": 0,
      "outputs": []
    },
    {
      "metadata": {
        "id": "umvl2HTrLOpa",
        "colab_type": "code",
        "colab": {}
      },
      "cell_type": "code",
      "source": [
        "x = tf.constant([[2, 5, 3, -5],\n",
        "             [0, 3,-2, 5],\n",
        "             [4, 3, 5, 3],\n",
        "             [6, 1, 4, 0]])\n",
        "listx = tf.constant([1,2,3,4,5,6,7,8])\n",
        "listy = tf.constant([4,5,8,9])\n",
        "boolx = tf.constant([[True,False], [False,True]])"
      ],
      "execution_count": 0,
      "outputs": []
    },
    {
      "metadata": {
        "id": "QliytbzrLOrv",
        "colab_type": "code",
        "colab": {
          "base_uri": "https://localhost:8080/",
          "height": 34
        },
        "outputId": "228307b2-6b23-4483-8685-0b4e3c10fd09"
      },
      "cell_type": "code",
      "source": [
        "tf.argmin(x, 1).eval()  # 返回最大值最小值的 索引"
      ],
      "execution_count": 59,
      "outputs": [
        {
          "output_type": "execute_result",
          "data": {
            "text/plain": [
              "array([3, 2, 1, 3])"
            ]
          },
          "metadata": {
            "tags": []
          },
          "execution_count": 59
        }
      ]
    },
    {
      "metadata": {
        "id": "1AzP3ySmLOv1",
        "colab_type": "code",
        "colab": {
          "base_uri": "https://localhost:8080/",
          "height": 34
        },
        "outputId": "2423e3c0-ff87-42f3-f4ff-c1adcd17abc0"
      },
      "cell_type": "code",
      "source": [
        "tf.argmax(x, 1).eval()"
      ],
      "execution_count": 60,
      "outputs": [
        {
          "output_type": "execute_result",
          "data": {
            "text/plain": [
              "array([1, 3, 2, 0])"
            ]
          },
          "metadata": {
            "tags": []
          },
          "execution_count": 60
        }
      ]
    },
    {
      "metadata": {
        "id": "M79aKU7uLOyh",
        "colab_type": "code",
        "colab": {}
      },
      "cell_type": "code",
      "source": [
        "# tf.listdiff(listx, listy)[0].eval() # 不存在了\n",
        "\n",
        "# tf.setdiff1d(listx, listy)[0].eval() # 准备废弃\n",
        "\n",
        "tf.sets.difference(listx, listy)[0].eval()"
      ],
      "execution_count": 0,
      "outputs": []
    },
    {
      "metadata": {
        "id": "3uDBv0wZLO0r",
        "colab_type": "code",
        "colab": {
          "base_uri": "https://localhost:8080/",
          "height": 51
        },
        "outputId": "235c7c2c-856e-46f6-a885-a236376e7d35"
      },
      "cell_type": "code",
      "source": [
        "tf.where(boolx).eval() "
      ],
      "execution_count": 65,
      "outputs": [
        {
          "output_type": "execute_result",
          "data": {
            "text/plain": [
              "array([[0, 0],\n",
              "       [1, 1]])"
            ]
          },
          "metadata": {
            "tags": []
          },
          "execution_count": 65
        }
      ]
    },
    {
      "metadata": {
        "id": "10LNtHg_LO5I",
        "colab_type": "code",
        "colab": {
          "base_uri": "https://localhost:8080/",
          "height": 34
        },
        "outputId": "dd645445-87de-49fa-c9a7-d7f0162b7c38"
      },
      "cell_type": "code",
      "source": [
        "tf.unique(listx)"
      ],
      "execution_count": 70,
      "outputs": [
        {
          "output_type": "execute_result",
          "data": {
            "text/plain": [
              "Unique(y=<tf.Tensor 'Unique_4:0' shape=(?,) dtype=int32>, idx=<tf.Tensor 'Unique_4:1' shape=(8,) dtype=int32>)"
            ]
          },
          "metadata": {
            "tags": []
          },
          "execution_count": 70
        }
      ]
    },
    {
      "metadata": {
        "id": "8hhkS0ZSLO7e",
        "colab_type": "code",
        "colab": {
          "base_uri": "https://localhost:8080/",
          "height": 34
        },
        "outputId": "afc9d7e7-d9d5-4fb5-c96d-393e01de1cbe"
      },
      "cell_type": "code",
      "source": [
        "# 张量形状变换\n",
        "tf.shape(x).eval()"
      ],
      "execution_count": 71,
      "outputs": [
        {
          "output_type": "execute_result",
          "data": {
            "text/plain": [
              "array([4, 4], dtype=int32)"
            ]
          },
          "metadata": {
            "tags": []
          },
          "execution_count": 71
        }
      ]
    },
    {
      "metadata": {
        "id": "e0U0NNtVLPCI",
        "colab_type": "code",
        "colab": {
          "base_uri": "https://localhost:8080/",
          "height": 85
        },
        "outputId": "f4e8da51-8637-4556-e06c-993da4434232"
      },
      "cell_type": "code",
      "source": [
        "x.eval()"
      ],
      "execution_count": 73,
      "outputs": [
        {
          "output_type": "execute_result",
          "data": {
            "text/plain": [
              "array([[ 2,  5,  3, -5],\n",
              "       [ 0,  3, -2,  5],\n",
              "       [ 4,  3,  5,  3],\n",
              "       [ 6,  1,  4,  0]], dtype=int32)"
            ]
          },
          "metadata": {
            "tags": []
          },
          "execution_count": 73
        }
      ]
    },
    {
      "metadata": {
        "id": "QNOsL0rNLPEy",
        "colab_type": "code",
        "colab": {
          "base_uri": "https://localhost:8080/",
          "height": 34
        },
        "outputId": "e2a3494c-614c-4d93-d351-7af5bbee0b6d"
      },
      "cell_type": "code",
      "source": [
        "tf.size(x).eval()"
      ],
      "execution_count": 74,
      "outputs": [
        {
          "output_type": "execute_result",
          "data": {
            "text/plain": [
              "16"
            ]
          },
          "metadata": {
            "tags": []
          },
          "execution_count": 74
        }
      ]
    },
    {
      "metadata": {
        "id": "C1dw12MfLPHZ",
        "colab_type": "code",
        "colab": {
          "base_uri": "https://localhost:8080/",
          "height": 34
        },
        "outputId": "53cde6eb-7359-4e18-e86e-8cb7d979101a"
      },
      "cell_type": "code",
      "source": [
        "tf.rank(x).eval() "
      ],
      "execution_count": 75,
      "outputs": [
        {
          "output_type": "execute_result",
          "data": {
            "text/plain": [
              "2"
            ]
          },
          "metadata": {
            "tags": []
          },
          "execution_count": 75
        }
      ]
    },
    {
      "metadata": {
        "id": "48yJ-e7-LPKX",
        "colab_type": "code",
        "colab": {
          "base_uri": "https://localhost:8080/",
          "height": 153
        },
        "outputId": "f676ceeb-be91-4454-d70a-64203ec2b7e9"
      },
      "cell_type": "code",
      "source": [
        "tf.reshape(x, [8, 2]).eval()"
      ],
      "execution_count": 76,
      "outputs": [
        {
          "output_type": "execute_result",
          "data": {
            "text/plain": [
              "array([[ 2,  5],\n",
              "       [ 3, -5],\n",
              "       [ 0,  3],\n",
              "       [-2,  5],\n",
              "       [ 4,  3],\n",
              "       [ 5,  3],\n",
              "       [ 6,  1],\n",
              "       [ 4,  0]], dtype=int32)"
            ]
          },
          "metadata": {
            "tags": []
          },
          "execution_count": 76
        }
      ]
    },
    {
      "metadata": {
        "id": "faDq9my3LPM_",
        "colab_type": "code",
        "colab": {
          "base_uri": "https://localhost:8080/",
          "height": 51
        },
        "outputId": "1c9e9bf2-41dc-4678-b656-17b16732ec15"
      },
      "cell_type": "code",
      "source": [
        "tf.reshape(x, [1, 16]).eval()"
      ],
      "execution_count": 77,
      "outputs": [
        {
          "output_type": "execute_result",
          "data": {
            "text/plain": [
              "array([[ 2,  5,  3, -5,  0,  3, -2,  5,  4,  3,  5,  3,  6,  1,  4,  0]],\n",
              "      dtype=int32)"
            ]
          },
          "metadata": {
            "tags": []
          },
          "execution_count": 77
        }
      ]
    },
    {
      "metadata": {
        "id": "XP6jUAwuLPPe",
        "colab_type": "code",
        "colab": {
          "base_uri": "https://localhost:8080/",
          "height": 289
        },
        "outputId": "41ea8997-b360-4075-d398-152ffdaa402d"
      },
      "cell_type": "code",
      "source": [
        "tf.reshape(x, [16, 1]).eval()"
      ],
      "execution_count": 78,
      "outputs": [
        {
          "output_type": "execute_result",
          "data": {
            "text/plain": [
              "array([[ 2],\n",
              "       [ 5],\n",
              "       [ 3],\n",
              "       [-5],\n",
              "       [ 0],\n",
              "       [ 3],\n",
              "       [-2],\n",
              "       [ 5],\n",
              "       [ 4],\n",
              "       [ 3],\n",
              "       [ 5],\n",
              "       [ 3],\n",
              "       [ 6],\n",
              "       [ 1],\n",
              "       [ 4],\n",
              "       [ 0]], dtype=int32)"
            ]
          },
          "metadata": {
            "tags": []
          },
          "execution_count": 78
        }
      ]
    },
    {
      "metadata": {
        "id": "N3yUQb8mLPT9",
        "colab_type": "code",
        "colab": {
          "base_uri": "https://localhost:8080/",
          "height": 85
        },
        "outputId": "9074839f-a3f0-44b4-d1e1-6e0afd9323c5"
      },
      "cell_type": "code",
      "source": [
        "tf.squeeze(x).eval()"
      ],
      "execution_count": 79,
      "outputs": [
        {
          "output_type": "execute_result",
          "data": {
            "text/plain": [
              "array([[ 2,  5,  3, -5],\n",
              "       [ 0,  3, -2,  5],\n",
              "       [ 4,  3,  5,  3],\n",
              "       [ 6,  1,  4,  0]], dtype=int32)"
            ]
          },
          "metadata": {
            "tags": []
          },
          "execution_count": 79
        }
      ]
    },
    {
      "metadata": {
        "id": "u2Fsgfz0LPWs",
        "colab_type": "code",
        "colab": {
          "base_uri": "https://localhost:8080/",
          "height": 136
        },
        "outputId": "886b00c2-8acb-4bb6-f57a-62f89e95083b"
      },
      "cell_type": "code",
      "source": [
        "tf.expand_dims(x,1).eval()"
      ],
      "execution_count": 80,
      "outputs": [
        {
          "output_type": "execute_result",
          "data": {
            "text/plain": [
              "array([[[ 2,  5,  3, -5]],\n",
              "\n",
              "       [[ 0,  3, -2,  5]],\n",
              "\n",
              "       [[ 4,  3,  5,  3]],\n",
              "\n",
              "       [[ 6,  1,  4,  0]]], dtype=int32)"
            ]
          },
          "metadata": {
            "tags": []
          },
          "execution_count": 80
        }
      ]
    },
    {
      "metadata": {
        "id": "olLO3pK-LPbR",
        "colab_type": "code",
        "colab": {}
      },
      "cell_type": "code",
      "source": [
        "t_matrix = tf.constant([[1,2,3],\n",
        "                        [4,5,6],\n",
        "                        [7,8,9]])\n",
        "t_array = tf.constant([1,2,3,4,9,8,6,5])\n",
        "t_array2= tf.constant([2,3,4,5,6,7,8,9])"
      ],
      "execution_count": 0,
      "outputs": []
    },
    {
      "metadata": {
        "id": "CtxekaypLPdu",
        "colab_type": "code",
        "colab": {
          "base_uri": "https://localhost:8080/",
          "height": 51
        },
        "outputId": "a955f88b-0f86-4ec4-bcf3-62c582ee79dc"
      },
      "cell_type": "code",
      "source": [
        "tf.slice(t_matrix, [1, 1], [2,2]).eval()"
      ],
      "execution_count": 83,
      "outputs": [
        {
          "output_type": "execute_result",
          "data": {
            "text/plain": [
              "array([[5, 6],\n",
              "       [8, 9]], dtype=int32)"
            ]
          },
          "metadata": {
            "tags": []
          },
          "execution_count": 83
        }
      ]
    },
    {
      "metadata": {
        "id": "swzKNqYALPgM",
        "colab_type": "code",
        "colab": {
          "base_uri": "https://localhost:8080/",
          "height": 51
        },
        "outputId": "5cbf3c1c-1285-4674-d0ac-a61a34eb8359"
      },
      "cell_type": "code",
      "source": [
        "tf.slice(t_matrix, [0,0], [2,2]).eval()"
      ],
      "execution_count": 84,
      "outputs": [
        {
          "output_type": "execute_result",
          "data": {
            "text/plain": [
              "array([[1, 2],\n",
              "       [4, 5]], dtype=int32)"
            ]
          },
          "metadata": {
            "tags": []
          },
          "execution_count": 84
        }
      ]
    },
    {
      "metadata": {
        "id": "uz6RSSqaLPlD",
        "colab_type": "code",
        "colab": {
          "base_uri": "https://localhost:8080/",
          "height": 34
        },
        "outputId": "178e3970-f067-4b26-9ec5-ea28eb8da3de"
      },
      "cell_type": "code",
      "source": [
        "tf.tile([1,2],[3]).eval()"
      ],
      "execution_count": 87,
      "outputs": [
        {
          "output_type": "execute_result",
          "data": {
            "text/plain": [
              "array([1, 2, 1, 2, 1, 2], dtype=int32)"
            ]
          },
          "metadata": {
            "tags": []
          },
          "execution_count": 87
        }
      ]
    },
    {
      "metadata": {
        "id": "KWCck0zLLPp_",
        "colab_type": "code",
        "colab": {
          "base_uri": "https://localhost:8080/",
          "height": 119
        },
        "outputId": "93ed9795-554a-4c36-c100-bc6c4173c36d"
      },
      "cell_type": "code",
      "source": [
        "tf.pad(t_matrix, [[1,2],[3,2]]).eval()"
      ],
      "execution_count": 93,
      "outputs": [
        {
          "output_type": "execute_result",
          "data": {
            "text/plain": [
              "array([[0, 0, 0, 0, 0, 0, 0, 0],\n",
              "       [0, 0, 0, 1, 2, 3, 0, 0],\n",
              "       [0, 0, 0, 4, 5, 6, 0, 0],\n",
              "       [0, 0, 0, 7, 8, 9, 0, 0],\n",
              "       [0, 0, 0, 0, 0, 0, 0, 0],\n",
              "       [0, 0, 0, 0, 0, 0, 0, 0]], dtype=int32)"
            ]
          },
          "metadata": {
            "tags": []
          },
          "execution_count": 93
        }
      ]
    },
    {
      "metadata": {
        "id": "v0xIBMwhLPsy",
        "colab_type": "code",
        "colab": {
          "base_uri": "https://localhost:8080/",
          "height": 525
        },
        "outputId": "247bea68-b42c-406f-90b6-202c01d514c5"
      },
      "cell_type": "code",
      "source": [
        "tf.concat(0, [t_array, t_array2]).eval()"
      ],
      "execution_count": 96,
      "outputs": [
        {
          "output_type": "error",
          "ename": "ValueError",
          "evalue": "ignored",
          "traceback": [
            "\u001b[0;31m---------------------------------------------------------------------------\u001b[0m",
            "\u001b[0;31mValueError\u001b[0m                                Traceback (most recent call last)",
            "\u001b[0;32m<ipython-input-96-7ea714489d34>\u001b[0m in \u001b[0;36m<module>\u001b[0;34m()\u001b[0m\n\u001b[0;32m----> 1\u001b[0;31m \u001b[0mtf\u001b[0m\u001b[0;34m.\u001b[0m\u001b[0mconcat\u001b[0m\u001b[0;34m(\u001b[0m\u001b[0;36m0\u001b[0m\u001b[0;34m,\u001b[0m \u001b[0;34m[\u001b[0m\u001b[0mt_array\u001b[0m\u001b[0;34m,\u001b[0m \u001b[0mt_array2\u001b[0m\u001b[0;34m]\u001b[0m\u001b[0;34m)\u001b[0m\u001b[0;34m.\u001b[0m\u001b[0meval\u001b[0m\u001b[0;34m(\u001b[0m\u001b[0;34m)\u001b[0m\u001b[0;34m\u001b[0m\u001b[0;34m\u001b[0m\u001b[0m\n\u001b[0m",
            "\u001b[0;32m/usr/local/lib/python3.6/dist-packages/tensorflow/python/util/dispatch.py\u001b[0m in \u001b[0;36mwrapper\u001b[0;34m(*args, **kwargs)\u001b[0m\n\u001b[1;32m    178\u001b[0m     \u001b[0;34m\"\"\"Call target, and fall back on dispatchers if there is a TypeError.\"\"\"\u001b[0m\u001b[0;34m\u001b[0m\u001b[0;34m\u001b[0m\u001b[0m\n\u001b[1;32m    179\u001b[0m     \u001b[0;32mtry\u001b[0m\u001b[0;34m:\u001b[0m\u001b[0;34m\u001b[0m\u001b[0;34m\u001b[0m\u001b[0m\n\u001b[0;32m--> 180\u001b[0;31m       \u001b[0;32mreturn\u001b[0m \u001b[0mtarget\u001b[0m\u001b[0;34m(\u001b[0m\u001b[0;34m*\u001b[0m\u001b[0margs\u001b[0m\u001b[0;34m,\u001b[0m \u001b[0;34m**\u001b[0m\u001b[0mkwargs\u001b[0m\u001b[0;34m)\u001b[0m\u001b[0;34m\u001b[0m\u001b[0;34m\u001b[0m\u001b[0m\n\u001b[0m\u001b[1;32m    181\u001b[0m     \u001b[0;32mexcept\u001b[0m \u001b[0;34m(\u001b[0m\u001b[0mTypeError\u001b[0m\u001b[0;34m,\u001b[0m \u001b[0mValueError\u001b[0m\u001b[0;34m)\u001b[0m\u001b[0;34m:\u001b[0m\u001b[0;34m\u001b[0m\u001b[0;34m\u001b[0m\u001b[0m\n\u001b[1;32m    182\u001b[0m       \u001b[0;31m# Note: convert_to_eager_tensor currently raises a ValueError, not a\u001b[0m\u001b[0;34m\u001b[0m\u001b[0;34m\u001b[0m\u001b[0;34m\u001b[0m\u001b[0m\n",
            "\u001b[0;32m/usr/local/lib/python3.6/dist-packages/tensorflow/python/ops/array_ops.py\u001b[0m in \u001b[0;36mconcat\u001b[0;34m(values, axis, name)\u001b[0m\n\u001b[1;32m   1252\u001b[0m           \u001b[0maxis\u001b[0m\u001b[0;34m,\u001b[0m \u001b[0mname\u001b[0m\u001b[0;34m=\u001b[0m\u001b[0;34m\"concat_dim\"\u001b[0m\u001b[0;34m,\u001b[0m\u001b[0;34m\u001b[0m\u001b[0;34m\u001b[0m\u001b[0m\n\u001b[1;32m   1253\u001b[0m           \u001b[0mdtype\u001b[0m\u001b[0;34m=\u001b[0m\u001b[0mdtypes\u001b[0m\u001b[0;34m.\u001b[0m\u001b[0mint32\u001b[0m\u001b[0;34m)\u001b[0m\u001b[0;34m.\u001b[0m\u001b[0mget_shape\u001b[0m\u001b[0;34m(\u001b[0m\u001b[0;34m)\u001b[0m\u001b[0;34m.\u001b[0m\u001b[0massert_is_compatible_with\u001b[0m\u001b[0;34m(\u001b[0m\u001b[0;34m\u001b[0m\u001b[0;34m\u001b[0m\u001b[0m\n\u001b[0;32m-> 1254\u001b[0;31m               tensor_shape.scalar())\n\u001b[0m\u001b[1;32m   1255\u001b[0m       \u001b[0;32mreturn\u001b[0m \u001b[0midentity\u001b[0m\u001b[0;34m(\u001b[0m\u001b[0mvalues\u001b[0m\u001b[0;34m[\u001b[0m\u001b[0;36m0\u001b[0m\u001b[0;34m]\u001b[0m\u001b[0;34m,\u001b[0m \u001b[0mname\u001b[0m\u001b[0;34m=\u001b[0m\u001b[0mscope\u001b[0m\u001b[0;34m)\u001b[0m\u001b[0;34m\u001b[0m\u001b[0;34m\u001b[0m\u001b[0m\n\u001b[1;32m   1256\u001b[0m   \u001b[0;32mreturn\u001b[0m \u001b[0mgen_array_ops\u001b[0m\u001b[0;34m.\u001b[0m\u001b[0mconcat_v2\u001b[0m\u001b[0;34m(\u001b[0m\u001b[0mvalues\u001b[0m\u001b[0;34m=\u001b[0m\u001b[0mvalues\u001b[0m\u001b[0;34m,\u001b[0m \u001b[0maxis\u001b[0m\u001b[0;34m=\u001b[0m\u001b[0maxis\u001b[0m\u001b[0;34m,\u001b[0m \u001b[0mname\u001b[0m\u001b[0;34m=\u001b[0m\u001b[0mname\u001b[0m\u001b[0;34m)\u001b[0m\u001b[0;34m\u001b[0m\u001b[0;34m\u001b[0m\u001b[0m\n",
            "\u001b[0;32m/usr/local/lib/python3.6/dist-packages/tensorflow/python/framework/tensor_shape.py\u001b[0m in \u001b[0;36massert_is_compatible_with\u001b[0;34m(self, other)\u001b[0m\n\u001b[1;32m   1021\u001b[0m     \"\"\"\n\u001b[1;32m   1022\u001b[0m     \u001b[0;32mif\u001b[0m \u001b[0;32mnot\u001b[0m \u001b[0mself\u001b[0m\u001b[0;34m.\u001b[0m\u001b[0mis_compatible_with\u001b[0m\u001b[0;34m(\u001b[0m\u001b[0mother\u001b[0m\u001b[0;34m)\u001b[0m\u001b[0;34m:\u001b[0m\u001b[0;34m\u001b[0m\u001b[0;34m\u001b[0m\u001b[0m\n\u001b[0;32m-> 1023\u001b[0;31m       \u001b[0;32mraise\u001b[0m \u001b[0mValueError\u001b[0m\u001b[0;34m(\u001b[0m\u001b[0;34m\"Shapes %s and %s are incompatible\"\u001b[0m \u001b[0;34m%\u001b[0m \u001b[0;34m(\u001b[0m\u001b[0mself\u001b[0m\u001b[0;34m,\u001b[0m \u001b[0mother\u001b[0m\u001b[0;34m)\u001b[0m\u001b[0;34m)\u001b[0m\u001b[0;34m\u001b[0m\u001b[0;34m\u001b[0m\u001b[0m\n\u001b[0m\u001b[1;32m   1024\u001b[0m \u001b[0;34m\u001b[0m\u001b[0m\n\u001b[1;32m   1025\u001b[0m   \u001b[0;32mdef\u001b[0m \u001b[0mmost_specific_compatible_shape\u001b[0m\u001b[0;34m(\u001b[0m\u001b[0mself\u001b[0m\u001b[0;34m,\u001b[0m \u001b[0mother\u001b[0m\u001b[0;34m)\u001b[0m\u001b[0;34m:\u001b[0m\u001b[0;34m\u001b[0m\u001b[0;34m\u001b[0m\u001b[0m\n",
            "\u001b[0;31mValueError\u001b[0m: Shapes (2, 8) and () are incompatible"
          ]
        }
      ]
    },
    {
      "metadata": {
        "id": "ptO34H9JLPxE",
        "colab_type": "code",
        "colab": {
          "base_uri": "https://localhost:8080/",
          "height": 168
        },
        "outputId": "7eeb686e-26a6-4980-8ddc-997c7ade6405"
      },
      "cell_type": "code",
      "source": [
        "tf.unpack(t_matrix).eval()"
      ],
      "execution_count": 97,
      "outputs": [
        {
          "output_type": "error",
          "ename": "AttributeError",
          "evalue": "ignored",
          "traceback": [
            "\u001b[0;31m---------------------------------------------------------------------------\u001b[0m",
            "\u001b[0;31mAttributeError\u001b[0m                            Traceback (most recent call last)",
            "\u001b[0;32m<ipython-input-97-0114bbfa7102>\u001b[0m in \u001b[0;36m<module>\u001b[0;34m()\u001b[0m\n\u001b[0;32m----> 1\u001b[0;31m \u001b[0mtf\u001b[0m\u001b[0;34m.\u001b[0m\u001b[0munpack\u001b[0m\u001b[0;34m(\u001b[0m\u001b[0mt_matrix\u001b[0m\u001b[0;34m)\u001b[0m\u001b[0;34m.\u001b[0m\u001b[0meval\u001b[0m\u001b[0;34m(\u001b[0m\u001b[0;34m)\u001b[0m\u001b[0;34m\u001b[0m\u001b[0;34m\u001b[0m\u001b[0m\n\u001b[0m",
            "\u001b[0;31mAttributeError\u001b[0m: module 'tensorflow' has no attribute 'unpack'"
          ]
        }
      ]
    },
    {
      "metadata": {
        "id": "SOGm1izlLPvi",
        "colab_type": "code",
        "colab": {}
      },
      "cell_type": "code",
      "source": [
        ""
      ],
      "execution_count": 0,
      "outputs": []
    },
    {
      "metadata": {
        "id": "2Ll8rEXleX6g",
        "colab_type": "text"
      },
      "cell_type": "markdown",
      "source": [
        "![](WX20190226-190259.png)"
      ]
    },
    {
      "metadata": {
        "id": "c9Mnw_HALPoQ",
        "colab_type": "code",
        "colab": {
          "base_uri": "https://localhost:8080/",
          "height": 362
        },
        "outputId": "5a8be530-5088-4774-d7ea-70c2c4abf893"
      },
      "cell_type": "code",
      "source": [
        "import tensorflow as tf\n",
        "import numpy as np\n",
        "import matplotlib.pyplot as plt\n",
        "\n",
        "with tf.Session() as sess:\n",
        "    fig, ax = plt.subplots()\n",
        "    ax.plot(tf.random_normal([100]).eval(), tf.random_normal([100]).eval(),'o')\n",
        "    ax.set_title('Sample random plot for TensorFlow')\n",
        "    plt.savefig(\"result.png\")"
      ],
      "execution_count": 98,
      "outputs": [
        {
          "output_type": "display_data",
          "data": {
            "image/png": "[encoded data removed]",
            "text/plain": [
              "<Figure size 576x396 with 1 Axes>"
            ]
          },
          "metadata": {
            "tags": []
          }
        }
      ]
    },
    {
      "metadata": {
        "id": "KuLGdLjnks6K",
        "colab_type": "text"
      },
      "cell_type": "markdown",
      "source": [
        "![](https://images.gitbook.cn/b0199590-e0d6-11e8-af35-6d3000480069)"
      ]
    },
    {
      "metadata": {
        "id": "JAYkZGhILPjf",
        "colab_type": "code",
        "colab": {}
      },
      "cell_type": "code",
      "source": [
        "import sklearn"
      ],
      "execution_count": 0,
      "outputs": []
    },
    {
      "metadata": {
        "id": "bHV5wsw_LPZX",
        "colab_type": "code",
        "colab": {
          "base_uri": "https://localhost:8080/",
          "height": 365
        },
        "outputId": "52dbdb73-35c5-4824-ec55-d789af88abd7"
      },
      "cell_type": "code",
      "source": [
        "from sklearn.datasets.samples_generator import make_blobs\n",
        "\n",
        "centers = [(-2, -2), (-2, 1.5), (1.5, -2), (2, 1.5)]\n",
        "\n",
        "data, features =  make_blobs(n_samples=200, centers=centers, n_features = 2, cluster_std=0.8, shuffle=False, random_state=42)\n",
        "\n",
        "fig, ax = plt.subplots()\n",
        "ax.scatter(np.asarray(data).transpose()[0], np.asarray(data).transpose()[1], marker = 'o', s = 250)\n",
        "plt.plot()"
      ],
      "execution_count": 106,
      "outputs": [
        {
          "output_type": "execute_result",
          "data": {
            "text/plain": [
              "[]"
            ]
          },
          "metadata": {
            "tags": []
          },
          "execution_count": 106
        },
        {
          "output_type": "display_data",
          "data": {
            "image/png": "[encoded data removed]",
            "text/plain": [
              "<Figure size 576x396 with 1 Axes>"
            ]
          },
          "metadata": {
            "tags": []
          }
        }
      ]
    },
    {
      "metadata": {
        "id": "4cs-vPh-LO3d",
        "colab_type": "code",
        "colab": {}
      },
      "cell_type": "code",
      "source": [
        ""
      ],
      "execution_count": 0,
      "outputs": []
    },
    {
      "metadata": {
        "id": "nq94r7OhnJ_k",
        "colab_type": "code",
        "colab": {}
      },
      "cell_type": "code",
      "source": [
        ""
      ],
      "execution_count": 0,
      "outputs": []
    },
    {
      "metadata": {
        "id": "6S4Zuqv-nMkK",
        "colab_type": "code",
        "colab": {}
      },
      "cell_type": "code",
      "source": [
        ""
      ],
      "execution_count": 0,
      "outputs": []
    },
    {
      "metadata": {
        "id": "3fGmsml4LOt_",
        "colab_type": "code",
        "colab": {}
      },
      "cell_type": "code",
      "source": [
        ""
      ],
      "execution_count": 0,
      "outputs": []
    },
    {
      "metadata": {
        "id": "ynluUE93LOi0",
        "colab_type": "code",
        "colab": {}
      },
      "cell_type": "code",
      "source": [
        ""
      ],
      "execution_count": 0,
      "outputs": []
    }
  ]
}