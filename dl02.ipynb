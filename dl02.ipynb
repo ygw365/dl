{
  "nbformat": 4,
  "nbformat_minor": 0,
  "metadata": {
    "colab": {
      "name": "dl02.ipynb",
      "version": "0.3.2",
      "provenance": [],
      "collapsed_sections": [],
      "include_colab_link": true
    },
    "kernelspec": {
      "name": "python3",
      "display_name": "Python 3"
    }
  },
  "cells": [
    {
      "cell_type": "markdown",
      "metadata": {
        "id": "view-in-github",
        "colab_type": "text"
      },
      "source": [
        "<a href=\"https://colab.research.google.com/github/ygw365/dl/blob/master/dl02.ipynb\" target=\"_parent\"><img src=\"https://colab.research.google.com/assets/colab-badge.svg\" alt=\"Open In Colab\"/></a>"
      ]
    },
    {
      "metadata": {
        "id": "JSiWLkMoT4To",
        "colab_type": "code",
        "colab": {}
      },
      "cell_type": "code",
      "source": [
        "import tensorflow as tf  \n",
        "\n",
        "# 创建一个先入先出队列,初始化队列插入0.1、0.2、0.3三个数字 \n",
        "q = tf.FIFOQueue(3, \"float\")  \n",
        "init = q.enqueue_many(([0.1, 0.2, 0.3],))  \n",
        "\n",
        "# 定义出队、+1、入队操作\n",
        "x = q.dequeue()\n",
        "y = x + 1  \n",
        "q_inc = q.enqueue([y])  "
      ],
      "execution_count": 0,
      "outputs": []
    },
    {
      "metadata": {
        "id": "dfZ3TJ2AT4V6",
        "colab_type": "code",
        "outputId": "42fb663a-9704-4af4-d302-dad6164a56d4",
        "colab": {
          "base_uri": "https://localhost:8080/",
          "height": 69
        }
      },
      "cell_type": "code",
      "source": [
        "with tf.Session() as sess:  \n",
        "  sess.run(init)  \n",
        "  quelen =  sess.run(q.size())  \n",
        "  for i in range(2):  \n",
        "    sess.run(q_inc) # 执行2次操作，队列中的值变为0.3,1.1,1.2\n",
        "\n",
        "  quelen =  sess.run(q.size())  \n",
        "  for i in range(quelen):  \n",
        "    print (sess.run(q.dequeue())) # 输出队列的值"
      ],
      "execution_count": 0,
      "outputs": [
        {
          "output_type": "stream",
          "text": [
            "0.3\n",
            "1.1\n",
            "1.2\n"
          ],
          "name": "stdout"
        }
      ]
    },
    {
      "metadata": {
        "id": "COWpD1z5SSNs",
        "colab_type": "code",
        "outputId": "99703e8a-5b55-4292-d5ef-306f49e464ae",
        "colab": {
          "base_uri": "https://localhost:8080/",
          "height": 156
        }
      },
      "cell_type": "code",
      "source": [
        "q = tf.RandomShuffleQueue(capacity=10, min_after_dequeue=2, dtypes=\"float\")\n",
        "sess = tf.Session()\n",
        "for i in range(0, 10): #10次入队\n",
        "  sess.run(q.enqueue(i))\n",
        "\n",
        "for i in range(0, 8): # 8次出队\n",
        "  print(sess.run(q.dequeue()))"
      ],
      "execution_count": 0,
      "outputs": [
        {
          "output_type": "stream",
          "text": [
            "1.0\n",
            "5.0\n",
            "4.0\n",
            "2.0\n",
            "0.0\n",
            "6.0\n",
            "7.0\n",
            "9.0\n"
          ],
          "name": "stdout"
        }
      ]
    },
    {
      "metadata": {
        "id": "XngV2NxLSSRD",
        "colab_type": "code",
        "outputId": "16508922-f27f-44b3-835c-3844d4b5d962",
        "colab": {
          "base_uri": "https://localhost:8080/",
          "height": 186
        }
      },
      "cell_type": "code",
      "source": [
        "for i in range(0, 2): # 8次出队\n",
        "  print(sess.run(q.dequeue()))"
      ],
      "execution_count": 0,
      "outputs": [
        {
          "output_type": "error",
          "ename": "NameError",
          "evalue": "ignored",
          "traceback": [
            "\u001b[0;31m---------------------------------------------------------------------------\u001b[0m",
            "\u001b[0;31mNameError\u001b[0m                                 Traceback (most recent call last)",
            "\u001b[0;32m<ipython-input-1-fe62099c4830>\u001b[0m in \u001b[0;36m<module>\u001b[0;34m()\u001b[0m\n\u001b[1;32m      1\u001b[0m \u001b[0;32mfor\u001b[0m \u001b[0mi\u001b[0m \u001b[0;32min\u001b[0m \u001b[0mrange\u001b[0m\u001b[0;34m(\u001b[0m\u001b[0;36m0\u001b[0m\u001b[0;34m,\u001b[0m \u001b[0;36m2\u001b[0m\u001b[0;34m)\u001b[0m\u001b[0;34m:\u001b[0m \u001b[0;31m# 8次出队\u001b[0m\u001b[0;34m\u001b[0m\u001b[0;34m\u001b[0m\u001b[0m\n\u001b[0;32m----> 2\u001b[0;31m   \u001b[0mprint\u001b[0m\u001b[0;34m(\u001b[0m\u001b[0msess\u001b[0m\u001b[0;34m.\u001b[0m\u001b[0mrun\u001b[0m\u001b[0;34m(\u001b[0m\u001b[0mq\u001b[0m\u001b[0;34m.\u001b[0m\u001b[0mdequeue\u001b[0m\u001b[0;34m(\u001b[0m\u001b[0;34m)\u001b[0m\u001b[0;34m)\u001b[0m\u001b[0;34m)\u001b[0m\u001b[0;34m\u001b[0m\u001b[0;34m\u001b[0m\u001b[0m\n\u001b[0m",
            "\u001b[0;31mNameError\u001b[0m: name 'sess' is not defined"
          ]
        }
      ]
    },
    {
      "metadata": {
        "id": "7EUsJ0JgSSTs",
        "colab_type": "code",
        "outputId": "bbc164f5-7980-4f0e-e722-3e73a5a178f6",
        "colab": {
          "base_uri": "https://localhost:8080/",
          "height": 35
        }
      },
      "cell_type": "code",
      "source": [
        "sess = tf.Session()\n",
        "run_options = tf.RunOptions(timeout_in_ms = 10000)    # 等待10秒\n",
        "try:\n",
        "  sess.run(q.dequeue(), options=run_options)\n",
        "except tf.errors.DeadlineExceededError:\n",
        "  print('out of range')"
      ],
      "execution_count": 0,
      "outputs": [
        {
          "output_type": "stream",
          "text": [
            "out of range\n"
          ],
          "name": "stdout"
        }
      ]
    },
    {
      "metadata": {
        "id": "ZXd7tTATSSWl",
        "colab_type": "code",
        "colab": {}
      },
      "cell_type": "code",
      "source": [
        "a = [i * 7800/10000 for i in [34, 57 ,69, 88, 85, 94, 116]]"
      ],
      "execution_count": 0,
      "outputs": []
    },
    {
      "metadata": {
        "id": "C7Y0VDb9SSZK",
        "colab_type": "code",
        "outputId": "00849826-ee3a-4e49-8ad8-2f2503657629",
        "colab": {
          "base_uri": "https://localhost:8080/",
          "height": 35
        }
      },
      "cell_type": "code",
      "source": [
        "a"
      ],
      "execution_count": 0,
      "outputs": [
        {
          "output_type": "execute_result",
          "data": {
            "text/plain": [
              "[26.52, 44.46, 53.82, 68.64, 66.3, 73.32, 90.48]"
            ]
          },
          "metadata": {
            "tags": []
          },
          "execution_count": 9
        }
      ]
    },
    {
      "metadata": {
        "id": "Tgh4wgBVc_py",
        "colab_type": "code",
        "outputId": "83139ef7-b8f1-40fa-a012-1e9be11cd595",
        "colab": {
          "base_uri": "https://localhost:8080/",
          "height": 35
        }
      },
      "cell_type": "code",
      "source": [
        "[round(i/2/3,0) for i in a]"
      ],
      "execution_count": 0,
      "outputs": [
        {
          "output_type": "execute_result",
          "data": {
            "text/plain": [
              "[4.0, 7.0, 9.0, 11.0, 11.0, 12.0, 15.0]"
            ]
          },
          "metadata": {
            "tags": []
          },
          "execution_count": 13
        }
      ]
    },
    {
      "metadata": {
        "id": "t_VhWPkVjo0H",
        "colab_type": "code",
        "outputId": "c30c079e-3059-412e-c245-4f320687e25a",
        "colab": {
          "base_uri": "https://localhost:8080/",
          "height": 89
        }
      },
      "cell_type": "code",
      "source": [
        "import tflearn"
      ],
      "execution_count": 0,
      "outputs": [
        {
          "output_type": "stream",
          "text": [
            "WARNING:tensorflow:From /usr/local/lib/python3.6/dist-packages/tensorflow/python/framework/op_def_library.py:263: colocate_with (from tensorflow.python.framework.ops) is deprecated and will be removed in a future version.\n",
            "Instructions for updating:\n",
            "Colocations handled automatically by placer.\n"
          ],
          "name": "stdout"
        }
      ]
    },
    {
      "metadata": {
        "id": "MBvGJ36ojoxr",
        "colab_type": "code",
        "outputId": "54902906-dd6b-4f50-fe2f-0a19511c551d",
        "colab": {
          "base_uri": "https://localhost:8080/",
          "height": 121
        }
      },
      "cell_type": "code",
      "source": [
        "from tflearn.layers.core import input_data, dropout, fully_connected\n",
        "from tflearn.layers.conv import conv_2d, max_pool_2d\n",
        "from tflearn.layers.normalization import local_response_normalization\n",
        "from tflearn.layers.estimator import regression\n",
        "\n",
        "import tflearn.datasets.oxflower17 as oxflower17\n",
        "X, Y = oxflower17.load_data(one_hot=True, resize_pics=(227, 227))"
      ],
      "execution_count": 0,
      "outputs": [
        {
          "output_type": "stream",
          "text": [
            "Downloading Oxford 17 category Flower Dataset, Please wait...\n"
          ],
          "name": "stdout"
        },
        {
          "output_type": "stream",
          "text": [
            "100.0% 60276736 / 60270631\n"
          ],
          "name": "stderr"
        },
        {
          "output_type": "stream",
          "text": [
            "('Succesfully downloaded', '17flowers.tgz', 60270631, 'bytes.')\n",
            "File Extracted\n",
            "Starting to parse images...\n",
            "Parsing Done!\n"
          ],
          "name": "stdout"
        }
      ]
    },
    {
      "metadata": {
        "id": "bdq5ma4ujova",
        "colab_type": "code",
        "outputId": "b3f8ac9d-1d78-48da-d22e-e0fd99e98741",
        "colab": {
          "base_uri": "https://localhost:8080/",
          "height": 193
        }
      },
      "cell_type": "code",
      "source": [
        "network = input_data(shape=[None, 227, 227, 3])\n",
        "network = conv_2d(network, 96, 11, strides=4, activation='relu')\n",
        "network = max_pool_2d(network, 3, strides=2)\n",
        "network = local_response_normalization(network)\n",
        "network = conv_2d(network, 256, 5, activation='relu')\n",
        "network = max_pool_2d(network, 3, strides=2)\n",
        "network = local_response_normalization(network)\n",
        "network = conv_2d(network, 384, 3, activation='relu')\n",
        "network = conv_2d(network, 384, 3, activation='relu')\n",
        "network = conv_2d(network, 256, 3, activation='relu')\n",
        "network = max_pool_2d(network, 3, strides=2)\n",
        "network = local_response_normalization(network)\n",
        "network = fully_connected(network, 4096, activation='tanh')\n",
        "network = dropout(network, 0.5)\n",
        "network = fully_connected(network, 4096, activation='tanh')\n",
        "network = dropout(network, 0.5)\n",
        "network = fully_connected(network, 17, activation='softmax')\n",
        "network = regression(network, optimizer='momentum',\n",
        "                   loss='categorical_crossentropy',\n",
        "                   learning_rate=0.001) # 回归操作，同时规定"
      ],
      "execution_count": 0,
      "outputs": [
        {
          "output_type": "stream",
          "text": [
            "WARNING:tensorflow:From /usr/local/lib/python3.6/dist-packages/tflearn/initializations.py:119: UniformUnitScaling.__init__ (from tensorflow.python.ops.init_ops) is deprecated and will be removed in a future version.\n",
            "Instructions for updating:\n",
            "Use tf.initializers.variance_scaling instead with distribution=uniform to get equivalent behavior.\n",
            "WARNING:tensorflow:From /usr/local/lib/python3.6/dist-packages/tflearn/layers/core.py:239: calling dropout (from tensorflow.python.ops.nn_ops) with keep_prob is deprecated and will be removed in a future version.\n",
            "Instructions for updating:\n",
            "Please use `rate` instead of `keep_prob`. Rate should be set to `rate = 1 - keep_prob`.\n",
            "WARNING:tensorflow:From /usr/local/lib/python3.6/dist-packages/tflearn/objectives.py:66: calling reduce_sum_v1 (from tensorflow.python.ops.math_ops) with keep_dims is deprecated and will be removed in a future version.\n",
            "Instructions for updating:\n",
            "keep_dims is deprecated, use keepdims instead\n"
          ],
          "name": "stdout"
        }
      ]
    },
    {
      "metadata": {
        "id": "LcElvgisjosv",
        "colab_type": "code",
        "outputId": "b7d226bc-e4b8-4cd6-dd5e-91f4245ff7b5",
        "colab": {
          "base_uri": "https://localhost:8080/",
          "height": 124
        }
      },
      "cell_type": "code",
      "source": [
        "from keras.models import Sequential\n",
        "from keras.layers import Dense, Activation\n",
        "model = Sequential()\n",
        "model.add(Dense(output_dim=64, input_dim=100))\n",
        "model.add(Activation(\"relu\"))\n",
        "model.add(Dense(output_dim=10))\n",
        "model.add(Activation(\"softmax\"))"
      ],
      "execution_count": 0,
      "outputs": [
        {
          "output_type": "stream",
          "text": [
            "Using TensorFlow backend.\n",
            "/usr/local/lib/python3.6/dist-packages/ipykernel_launcher.py:4: UserWarning: Update your `Dense` call to the Keras 2 API: `Dense(input_dim=100, units=64)`\n",
            "  after removing the cwd from sys.path.\n",
            "/usr/local/lib/python3.6/dist-packages/ipykernel_launcher.py:6: UserWarning: Update your `Dense` call to the Keras 2 API: `Dense(units=10)`\n",
            "  \n"
          ],
          "name": "stderr"
        }
      ]
    },
    {
      "metadata": {
        "id": "T1YS4sC8joqT",
        "colab_type": "code",
        "colab": {}
      },
      "cell_type": "code",
      "source": [
        "import tensorflow as tf\n",
        "import numpy as np\n",
        "# 构造满足一元二次方程的函数\n",
        "x_data = np.linspace(-1,1,300)[:, np.newaxis] # 为了使点更密一些，我们构建了300个点，分布在-1到1区间，直接采用np生成等差数列的方法，并将结果为300个点的一维数组，转换为300×1的二维数组\n",
        "noise = np.random.normal(0, 0.05, x_data.shape) # 加入一些噪声点，使它与 x_data 的维度一致，并且拟合为均值为0、方差为0.05的正态分布\n",
        "y_data = np.square(x_data) - 0.5 + noise # y = x^2 – 0.5 + 噪声\n"
      ],
      "execution_count": 0,
      "outputs": []
    },
    {
      "metadata": {
        "id": "UDJPMU-ojon6",
        "colab_type": "code",
        "colab": {}
      },
      "cell_type": "code",
      "source": [
        "xs = tf.placeholder(tf.float32, [None, 1])\n",
        "ys = tf.placeholder(tf.float32, [None, 1])"
      ],
      "execution_count": 0,
      "outputs": []
    },
    {
      "metadata": {
        "id": "M94RCMtcjolY",
        "colab_type": "code",
        "colab": {}
      },
      "cell_type": "code",
      "source": [
        "def add_layer(inputs, in_size, out_size, activation_function=None):\n",
        "  # 构建权重：in_size×out_size 大小的矩阵\n",
        "  weights = tf.Variable(tf.random_normal([in_size, out_size])) \n",
        "  # 构建偏置：1×out_size 的矩阵\n",
        "  biases = tf.Variable(tf.zeros([1, out_size]) + 0.1) \n",
        "  # 矩阵相乘\n",
        "  Wx_plus_b = tf.matmul(inputs, weights) + biases \n",
        "  if activation_function is None:\n",
        "    outputs = Wx_plus_b\n",
        "  else:\n",
        "    outputs = activation_function(Wx_plus_b)\n",
        "  return outputs # 得到输出数据\n",
        "# 构建隐藏层，假设隐藏层有20个神经元\n",
        "h1 = add_layer(xs, 1, 20, activation_function=tf.nn.relu)\n",
        "# 构建输出层，假设输出层和输入层一样，有1个神经元\n",
        "prediction = add_layer(h1, 20, 1, activation_function=None)"
      ],
      "execution_count": 0,
      "outputs": []
    },
    {
      "metadata": {
        "id": "d0kd4FQdjoik",
        "colab_type": "code",
        "outputId": "b51ab0fd-1d7b-4754-98ce-2e4130f1e339",
        "colab": {
          "base_uri": "https://localhost:8080/",
          "height": 89
        }
      },
      "cell_type": "code",
      "source": [
        "# 计算预测值和真实值间的误差\n",
        "loss = tf.reduce_mean(tf.reduce_sum(tf.square(ys - prediction),\n",
        "                      reduction_indices=[1]))\n",
        "train_step = tf.train.GradientDescentOptimizer(0.1).minimize(loss)"
      ],
      "execution_count": 0,
      "outputs": [
        {
          "output_type": "stream",
          "text": [
            "WARNING:tensorflow:From /usr/local/lib/python3.6/dist-packages/tensorflow/python/ops/math_ops.py:3066: to_int32 (from tensorflow.python.ops.math_ops) is deprecated and will be removed in a future version.\n",
            "Instructions for updating:\n",
            "Use tf.cast instead.\n"
          ],
          "name": "stdout"
        }
      ]
    },
    {
      "metadata": {
        "id": "rtDvKmewjogF",
        "colab_type": "code",
        "outputId": "b3f810b8-e5a9-4f6f-8d68-75475c078482",
        "colab": {
          "base_uri": "https://localhost:8080/",
          "height": 364
        }
      },
      "cell_type": "code",
      "source": [
        "init = tf.global_variables_initializer() # 初始化所有变量\n",
        "sess = tf.Session()\n",
        "sess.run(init)\n",
        "\n",
        "for i in range(1000): # 训练1000次\n",
        "  sess.run(train_step, feed_dict={xs: x_data, ys: y_data})\n",
        "  if i % 50 == 0: # 每50次打印出一次损失值\n",
        "    print(sess.run(loss, feed_dict={xs: x_data, ys: y_data}))"
      ],
      "execution_count": 0,
      "outputs": [
        {
          "output_type": "stream",
          "text": [
            "0.088658586\n",
            "0.01300035\n",
            "0.008485103\n",
            "0.0063293157\n",
            "0.005290428\n",
            "0.0047476417\n",
            "0.0044106906\n",
            "0.004134232\n",
            "0.0038987717\n",
            "0.0037114099\n",
            "0.0035564215\n",
            "0.0034363759\n",
            "0.0033227487\n",
            "0.0032306851\n",
            "0.0031513406\n",
            "0.0030684695\n",
            "0.0029956328\n",
            "0.0029372377\n",
            "0.0028850033\n",
            "0.0028348933\n"
          ],
          "name": "stdout"
        }
      ]
    },
    {
      "metadata": {
        "id": "6pWtYJoDjodi",
        "colab_type": "code",
        "colab": {
          "base_uri": "https://localhost:8080/",
          "height": 52
        },
        "outputId": "9c38380e-8f77-404d-dc43-4812e89b028e"
      },
      "cell_type": "code",
      "source": [
        "import numpy as np\n",
        "\n",
        "a = np.arange(1, 101)\n",
        "n_max = int(np.sqrt(len(a)))\n",
        "is_prime = np.ones(len(a), dtype=bool) # 创建100个元素的数组，用来标记是否为质数\n",
        "is_prime[0] = False\n",
        "\n",
        "for i in range(2,n_max):\n",
        "    if i in a[is_prime]:                  # 跳过非质数\n",
        "        is_prime[(i**2 - 1)::i] = False # 减 1 是为了修复从 0 开始索引的问题\n",
        "\n",
        "a[is_prime]"
      ],
      "execution_count": 2,
      "outputs": [
        {
          "output_type": "execute_result",
          "data": {
            "text/plain": [
              "array([ 2,  3,  5,  7, 11, 13, 17, 19, 23, 29, 31, 37, 41, 43, 47, 53, 59,\n",
              "       61, 67, 71, 73, 79, 83, 89, 97])"
            ]
          },
          "metadata": {
            "tags": []
          },
          "execution_count": 2
        }
      ]
    },
    {
      "metadata": {
        "id": "LCCcp4N2joYE",
        "colab_type": "code",
        "colab": {}
      },
      "cell_type": "code",
      "source": [
        "b = a[is_prime]"
      ],
      "execution_count": 0,
      "outputs": []
    },
    {
      "metadata": {
        "id": "Tt-wo8XZjoU5",
        "colab_type": "code",
        "colab": {
          "base_uri": "https://localhost:8080/",
          "height": 35
        },
        "outputId": "960c5bda-b746-4b57-90ce-105dbb767130"
      },
      "cell_type": "code",
      "source": [
        "b[0:5:3]"
      ],
      "execution_count": 11,
      "outputs": [
        {
          "output_type": "execute_result",
          "data": {
            "text/plain": [
              "array([2, 7])"
            ]
          },
          "metadata": {
            "tags": []
          },
          "execution_count": 11
        }
      ]
    },
    {
      "metadata": {
        "id": "3gfjiimAjoPM",
        "colab_type": "code",
        "colab": {
          "base_uri": "https://localhost:8080/",
          "height": 35
        },
        "outputId": "a5f38f48-a4de-4707-966f-1c559f438f81"
      },
      "cell_type": "code",
      "source": [
        "import numpy as np\n",
        "\n",
        "# 假设圆的半径为1，圆心在原点\n",
        "n_dots = 1000000\n",
        "x = np.random.random(n_dots)\n",
        "y = np.random.random(n_dots)                     # 随机产生一百万个点\n",
        "distance = np.sqrt(x ** 2 + y ** 2)              # 计算每个点到圆心的距离\n",
        "in_circle = distance[distance < 1]               # 所有落在扇形内的点\n",
        "\n",
        "pi = 4 * float(len(in_circle)) / n_dots         # 计算出 PI 的值\n",
        "pi"
      ],
      "execution_count": 13,
      "outputs": [
        {
          "output_type": "execute_result",
          "data": {
            "text/plain": [
              "3.141284"
            ]
          },
          "metadata": {
            "tags": []
          },
          "execution_count": 13
        }
      ]
    },
    {
      "metadata": {
        "id": "_eGT60TsjoE3",
        "colab_type": "code",
        "colab": {}
      },
      "cell_type": "code",
      "source": [
        "from sklearn import datasets\n",
        "digits = datasets.load_digits()"
      ],
      "execution_count": 0,
      "outputs": []
    },
    {
      "metadata": {
        "id": "H8KNz1PVUcPA",
        "colab_type": "code",
        "colab": {
          "base_uri": "https://localhost:8080/",
          "height": 943
        },
        "outputId": "05ba77a9-869f-4971-9ed3-2e8028d5e108"
      },
      "cell_type": "code",
      "source": [
        "%matplotlib inline\n",
        "from matplotlib import pyplot as plt\n",
        "images_and_labels = list(zip(digits.images, digits.target))\n",
        "plt.figure(figsize=(8, 6), dpi=200)\n",
        "for index, (image, label) in enumerate(images_and_labels[:8]):\n",
        "    plt.subplot(2, 4, index + 1)\n",
        "    plt.axis('off')\n",
        "    plt.imshow(image, cmap=plt.cm.gray_r, interpolation='nearest')\n",
        "    plt.title('Digit: %i' % label, fontsize=20)"
      ],
      "execution_count": 3,
      "outputs": [
        {
          "output_type": "display_data",
          "data": {
            "image/png": "[encoded data removed]",
            "text/plain": [
              "<Figure size 1600x1200 with 8 Axes>"
            ]
          },
          "metadata": {
            "tags": []
          }
        }
      ]
    },
    {
      "metadata": {
        "id": "9zY9xjVwUcMf",
        "colab_type": "code",
        "colab": {}
      },
      "cell_type": "code",
      "source": [
        ""
      ],
      "execution_count": 0,
      "outputs": []
    },
    {
      "metadata": {
        "id": "fNNcz1cTUcHp",
        "colab_type": "code",
        "colab": {}
      },
      "cell_type": "code",
      "source": [
        ""
      ],
      "execution_count": 0,
      "outputs": []
    },
    {
      "metadata": {
        "id": "8L8Jz7J9UcF4",
        "colab_type": "code",
        "colab": {}
      },
      "cell_type": "code",
      "source": [
        ""
      ],
      "execution_count": 0,
      "outputs": []
    },
    {
      "metadata": {
        "id": "3SVNgT6dUcC2",
        "colab_type": "code",
        "colab": {}
      },
      "cell_type": "code",
      "source": [
        ""
      ],
      "execution_count": 0,
      "outputs": []
    },
    {
      "metadata": {
        "id": "blnWxOiuUcAH",
        "colab_type": "code",
        "colab": {}
      },
      "cell_type": "code",
      "source": [
        ""
      ],
      "execution_count": 0,
      "outputs": []
    },
    {
      "metadata": {
        "id": "_lvOkwhnUb9o",
        "colab_type": "code",
        "colab": {}
      },
      "cell_type": "code",
      "source": [
        ""
      ],
      "execution_count": 0,
      "outputs": []
    },
    {
      "metadata": {
        "id": "iS9nbQYYUb61",
        "colab_type": "code",
        "colab": {}
      },
      "cell_type": "code",
      "source": [
        ""
      ],
      "execution_count": 0,
      "outputs": []
    },
    {
      "metadata": {
        "id": "LAq8CjaoUbzS",
        "colab_type": "code",
        "colab": {}
      },
      "cell_type": "code",
      "source": [
        ""
      ],
      "execution_count": 0,
      "outputs": []
    }
  ]
}